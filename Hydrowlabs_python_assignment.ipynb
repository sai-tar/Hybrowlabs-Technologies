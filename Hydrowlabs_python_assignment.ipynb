{
 "cells": [
  {
   "cell_type": "markdown",
   "id": "193ee505",
   "metadata": {},
   "source": [
    "# PART-1"
   ]
  },
  {
   "cell_type": "markdown",
   "id": "364e08fe",
   "metadata": {},
   "source": [
    "# Stack Implementation"
   ]
  },
  {
   "cell_type": "markdown",
   "id": "1022e7ce",
   "metadata": {},
   "source": [
    "## Stack is  a linear Data Structure with last in first out where it can be implemented in 2 different ways such as\n",
    "## -lists\n",
    "## -linked lists"
   ]
  },
  {
   "cell_type": "code",
   "execution_count": 7,
   "id": "b44e99c9",
   "metadata": {},
   "outputs": [
    {
     "name": "stdout",
     "output_type": "stream",
     "text": [
      "Stack is empty or not True\n",
      "Top Most element in stack 3\n",
      "Top Most element in stack after pop 2\n",
      "Stack is empty or not False\n"
     ]
    }
   ],
   "source": [
    "##stack through linkedlists.\n",
    "class Node:                                            #creating Node Class which contains data and next address\n",
    "    def __init__(self,data):\n",
    "        self.data=data\n",
    "        self.next=None\n",
    "\n",
    "        \n",
    "        \n",
    "class Stack:                                           #creating a stack class to link the nodes and do the operations\n",
    "    def __init__(self):                                # constructor with head Node as None and length=0\n",
    "        self.head=None\n",
    "        self.length=0\n",
    "    \n",
    "    \n",
    "    \n",
    "    def push(self,data):                               #pushing the element at the top\n",
    "        new_node=Node(data)                            # creating node object\n",
    "        new_node.next=self.head                        # new node->next=head\n",
    "        self.head=new_node                             #head=newnode\n",
    "        self.length+=1                                 #length is increased by 1 when pushing an element \n",
    "    \n",
    "    \n",
    "    \n",
    "    def pop(self):                                     # delete the element which is at the top\n",
    "        if self.length==0:                             # if stack is empty return nothing\n",
    "            return None\n",
    "        top=self.head                                  # the top most element is head\n",
    "        self.head=self.head.next                       # head=head->next\n",
    "        self.length-=1                                 #length is decreased by 1 when poping an element \n",
    "        top.next=None                                  # top most element top->next=None\n",
    "        return self.head.data                          # returning the head->data\n",
    "    \n",
    "    \n",
    "    def peek(self):                                   # to finding the top most element if stack is empty returns None\n",
    "         if self.length==0:                           # else returns head->data\n",
    "            return None\n",
    "         return self.head.data\n",
    "    \n",
    "    \n",
    "    def isEmpty(self):                                # checks stack is empty or not\n",
    "        return self.length==0\n",
    "    \n",
    "    \n",
    "if __name__=='__main__':\n",
    "    stk=Stack()\n",
    "    print('Stack is empty or not',stk.isEmpty())\n",
    "    stk.push(1)\n",
    "    stk.push(2)\n",
    "    stk.push(3)\n",
    "    print('Top Most element in stack',stk.peek())\n",
    "    stk.pop()\n",
    "    print('Top Most element in stack after pop',stk.peek())\n",
    "    print('Stack is empty or not',stk.isEmpty())"
   ]
  },
  {
   "cell_type": "markdown",
   "id": "e4d7b1fc",
   "metadata": {},
   "source": [
    "# Queue Implentation"
   ]
  },
  {
   "cell_type": "markdown",
   "id": "9de98f37",
   "metadata": {},
   "source": [
    "## Queue is a linear data structure which follows first in last out where it can be implemented through lists and linked lists"
   ]
  },
  {
   "cell_type": "code",
   "execution_count": 14,
   "id": "ce25c026",
   "metadata": {},
   "outputs": [
    {
     "name": "stdout",
     "output_type": "stream",
     "text": [
      "22\n",
      "33\n",
      "33\n"
     ]
    }
   ],
   "source": [
    "class Node:                                            #creating Node Class which contains data and next address\n",
    "    def __init__(self,data):\n",
    "        self.data=data\n",
    "        self.next=None\n",
    "class Queue:\n",
    "    def __init__(self):\n",
    "        self.head=None\n",
    "        self.tail=None\n",
    "        self.length=0\n",
    "    def enqueue(self,data):\n",
    "        new_node=Node(data)\n",
    "        self.length+=1\n",
    "        temp=self.head\n",
    "        if self.head is None:\n",
    "            self.head=new_node\n",
    "            self.tail=new_node\n",
    "        else:\n",
    "            self.tail.next=new_node\n",
    "            self.tail=new_node\n",
    "                \n",
    "    def dequeue(self):\n",
    "        if self.length==0:\n",
    "            return None\n",
    "        temp=self.head\n",
    "        self.head=self.head.next\n",
    "        temp.next=None\n",
    "        self.length-=1\n",
    "        if self.length==0:\n",
    "            return None\n",
    "        temp.next=None\n",
    "        return self.head.data\n",
    "    \n",
    "    \n",
    "    \n",
    "    def peek(self):                                   # if queue is empty returns None\n",
    "         if self.length==0:                           # else returns head->data\n",
    "            return None\n",
    "         return self.head.data\n",
    "    \n",
    "    \n",
    "    def isEmpty(self):                                # checks stack is empty or not\n",
    "        return self.length==0\n",
    "     \n",
    "if __name__=='__main__':\n",
    "    que=Queue()\n",
    "    que.enqueue(9)\n",
    "    que.enqueue(22)\n",
    "    que.enqueue(33)\n",
    "    print(que.dequeue())\n",
    "    que.enqueue(9)\n",
    "    que.enqueue(22)\n",
    "    que.enqueue(33)\n",
    "    print(que.dequeue())\n",
    "    print(que.peek())\n"
   ]
  },
  {
   "cell_type": "markdown",
   "id": "71b9368f",
   "metadata": {},
   "source": [
    "## Binary Search Tree Implementation"
   ]
  },
  {
   "cell_type": "code",
   "execution_count": 15,
   "id": "1c1b32fb",
   "metadata": {},
   "outputs": [
    {
     "name": "stdout",
     "output_type": "stream",
     "text": [
      "Inorder traversal after insertion: 2 4 5 6 8 9 10 "
     ]
    }
   ],
   "source": []
  },
  {
   "cell_type": "code",
   "execution_count": 23,
   "id": "7e3ae55c",
   "metadata": {},
   "outputs": [
    {
     "name": "stdout",
     "output_type": "stream",
     "text": [
      "Inorder traversal of the given tree\n",
      "20 30 40 50 60 70 80 \n",
      "\n",
      "search element 50\n",
      "50\n",
      "\n",
      "\n",
      "Delete 20\n",
      "Inorder traversal of the modified tree\n",
      "30 40 50 60 70 80 \n",
      "\n",
      "Delete 30\n",
      "Inorder traversal of the modified tree\n",
      "40 50 60 70 80 \n",
      "\n",
      "Delete 50\n",
      "Inorder traversal of the modified tree\n",
      "40 60 70 80 numberr of nodes\n",
      "4\n"
     ]
    }
   ],
   "source": [
    "class Node:                            # Constructor to create a new node\n",
    "    def __init__(self, key):\n",
    "        self.key = key\n",
    "        self.left = None\n",
    "        self.right = None\n",
    "\n",
    "def inorder(root):\n",
    "    if root is not None:\n",
    "        inorder(root.left)\n",
    "        print(root.key, end=\" \")\n",
    "        inorder(root.right)\n",
    "\n",
    "def insert(node, key):                 # If the tree is empty,returns new node\n",
    "    if node is None:\n",
    "        return Node(key)\n",
    "    if key < node.key:\n",
    "        node.left = insert(node.left, key)\n",
    "    else:\n",
    "        node.right = insert(node.right, key)\n",
    "\n",
    "    return node\n",
    "\n",
    "def deleteNode(root, key):\n",
    "# Base Case\n",
    "    if root is None:\n",
    "        return root\n",
    "    if key < root.key:                     # Recursive calls for ancestors of node to be deleted\n",
    "        root.left = deleteNode(root.left, key)\n",
    "        return root\n",
    "\n",
    "    elif(key > root.key):\n",
    "        root.right = deleteNode(root.right, key)\n",
    "        return root\n",
    "\n",
    "\n",
    "    if root.left is None and root.right is None:\n",
    "        return None\n",
    "\n",
    "                                        # If one of the children is empty\n",
    "    if root.left is None:\n",
    "        temp = root.right\n",
    "        root = None\n",
    "        return temp\n",
    "\n",
    "    elif root.right is None:\n",
    "        temp = root.left\n",
    "        root = None\n",
    "        return temp\n",
    "\n",
    "    # If both children exist\n",
    "\n",
    "    succParent = root\n",
    "    # Find Successor\n",
    "\n",
    "    succ = root.right\n",
    "    while succ.left != None:\n",
    "        succParent = succ\n",
    "        succ = succ.left\n",
    "\n",
    "    if succParent != root:\n",
    "        succParent.left = succ.right\n",
    "    else:\n",
    "        succParent.right = succ.right\n",
    "                                            # Copy Successor Data to root\n",
    "\n",
    "    root.key = succ.key\n",
    "\n",
    "    return root\n",
    "def search(root,key):\n",
    "    if root is None or root.key == key:\n",
    "        return root.key\n",
    "    if root.key < key:\n",
    "        return search(root.right,key)\n",
    "    return search(root.left,key)\n",
    "def totalNodes(root):\n",
    "  # Base case\n",
    "    if(root == None):\n",
    "        return 0\n",
    " \n",
    "    # Find the left height and the\n",
    "    # right heights\n",
    "    l = totalNodes(root.left)\n",
    "    r = totalNodes(root.right)\n",
    " \n",
    "    return 1 + l + r\n",
    "\n",
    "root = None\n",
    "root = insert(root, 50)\n",
    "root = insert(root, 30)\n",
    "root = insert(root, 20)\n",
    "root = insert(root, 40)\n",
    "root = insert(root, 70)\n",
    "root = insert(root, 60)\n",
    "root = insert(root, 80)\n",
    "\n",
    "print(\"Inorder traversal of the given tree\")\n",
    "inorder(root)\n",
    "print('\\n\\nsearch element 50')\n",
    "print(search(root,50))\n",
    "print(\"\\n\\nDelete 20\")\n",
    "root = deleteNode(root, 20)\n",
    "print(\"Inorder traversal of the modified tree\")\n",
    "inorder(root)\n",
    "\n",
    "print(\"\\n\\nDelete 30\")\n",
    "root = deleteNode(root, 30)\n",
    "print(\"Inorder traversal of the modified tree\")\n",
    "inorder(root)\n",
    "\n",
    "print(\"\\n\\nDelete 50\")\n",
    "root = deleteNode(root, 50)\n",
    "print(\"Inorder traversal of the modified tree\")\n",
    "inorder(root)\n",
    "print('numberr of nodes')\n",
    "print(totalNodes(root))"
   ]
  },
  {
   "cell_type": "markdown",
   "id": "6b785b91",
   "metadata": {},
   "source": [
    "# PART-2"
   ]
  },
  {
   "cell_type": "markdown",
   "id": "2742e4d5",
   "metadata": {},
   "source": [
    "## Problem 1: Anagram Checker\n",
    "Write a Python function that takes in two strings and returns True if they are anagrams of each other, else False. An anagram is a word or phrase formed by rearranging the letters of a different word or phrase, typically using all the original letters exactly once.\n"
   ]
  },
  {
   "cell_type": "code",
   "execution_count": null,
   "id": "4bfd573d",
   "metadata": {},
   "outputs": [],
   "source": [
    "def anagrams(s1,s2):\n",
    "    if len(s1)!=len(s2):\n",
    "        return False\n",
    "    counts={}\n",
    "    for i,j in zip(s1,s2):\n",
    "        if i in counts.keys():                                     ##counts the alphabets in s1\n",
    "            counts[i]+=1\n",
    "        else:\n",
    "            counts[i]=1\n",
    "        if j in counts.keys():                                      ##\n",
    "            counts[j]-=1\n",
    "        else:\n",
    "            counts[j]=-1\n",
    "    for x in counts.values():\n",
    "        if x!=0:\n",
    "            return False\n",
    "    return True\n",
    "if __name__=='__main__':\n",
    "    s1=input('enter the first string: ')\n",
    "    s2=input('enter the secod string: ')\n",
    "    print(anagrams(s1,s2))"
   ]
  },
  {
   "cell_type": "markdown",
   "id": "f6fe4f09",
   "metadata": {},
   "source": [
    "## PROBLEM -2\n",
    "Problem 2: FizzBuzz\n",
    "Write a Python function that takes in an integer n and prints the numbersfrom\n",
    "1 to n. For multiples of 3, print \"Fizz\" instead of the number. For multiples\n",
    "of 5, print \"Buzz\" instead of the number. For multiples of both 3 and 5,\n",
    "print \"FizzBuzz\" instead of the number.\n"
   ]
  },
  {
   "cell_type": "code",
   "execution_count": 27,
   "id": "45c5d2f4",
   "metadata": {},
   "outputs": [
    {
     "name": "stdout",
     "output_type": "stream",
     "text": [
      "1\n",
      "2\n",
      "Fizz\n",
      "4\n",
      "Buzz\n",
      "Fizz\n",
      "7\n",
      "8\n",
      "Fizz\n",
      "Buzz\n",
      "11\n",
      "Fizz\n",
      "13\n",
      "14\n",
      "FizzBuzz\n",
      "16\n",
      "17\n",
      "Fizz\n",
      "19\n",
      "Buzz\n",
      "Fizz\n",
      "22\n",
      "23\n",
      "Fizz\n",
      "Buzz\n",
      "26\n",
      "Fizz\n",
      "28\n",
      "29\n",
      "FizzBuzz\n"
     ]
    }
   ],
   "source": [
    "def FizzBuzz(n):\n",
    "    for i in range(1,n+1):\n",
    "        if i%3==0 and i%5==0:\n",
    "            print('FizzBuzz')\n",
    "\n",
    "        elif i%3==0:\n",
    "            print('Fizz')\n",
    "        elif i%5==0:\n",
    "            print('Buzz')\n",
    "        else:\n",
    "            print(i)\n",
    "n=30\n",
    "FizzBuzz(n)\n",
    "        "
   ]
  },
  {
   "cell_type": "markdown",
   "id": "e6b3caae",
   "metadata": {},
   "source": [
    "Problem 3: Fibonacci Sequence\n",
    "Write a Python function that takes in an integer n and returns the nth number in the Fibonacci sequence. The Fibonacci sequence is a series of numbers in which each number after the first two is the sum of the two preceding ones.\n"
   ]
  },
  {
   "cell_type": "code",
   "execution_count": 31,
   "id": "1dd639ed",
   "metadata": {},
   "outputs": [
    {
     "name": "stdout",
     "output_type": "stream",
     "text": [
      "5\n"
     ]
    }
   ],
   "source": [
    "def FibonnaciSequence(n):\n",
    "    if n==0 or n==1:\n",
    "        return n\n",
    "    else:\n",
    "        return FibonnaciSequence(n-1)+FibonnaciSequence(n-2)\n",
    "if __name__=='__main__':\n",
    "    n=int(input())\n",
    "    FibonnaciSequence(n)  "
   ]
  },
  {
   "cell_type": "code",
   "execution_count": null,
   "id": "de69b084",
   "metadata": {},
   "outputs": [],
   "source": []
  }
 ],
 "metadata": {
  "kernelspec": {
   "display_name": "Python 3 (ipykernel)",
   "language": "python",
   "name": "python3"
  },
  "language_info": {
   "codemirror_mode": {
    "name": "ipython",
    "version": 3
   },
   "file_extension": ".py",
   "mimetype": "text/x-python",
   "name": "python",
   "nbconvert_exporter": "python",
   "pygments_lexer": "ipython3",
   "version": "3.9.7"
  }
 },
 "nbformat": 4,
 "nbformat_minor": 5
}
